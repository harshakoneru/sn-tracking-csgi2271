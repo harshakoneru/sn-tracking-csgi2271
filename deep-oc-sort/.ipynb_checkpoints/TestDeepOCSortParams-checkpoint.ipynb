{
 "cells": [
  {
   "cell_type": "code",
   "execution_count": 19,
   "metadata": {},
   "outputs": [],
   "source": [
    "import json\n",
    "from IPython.display import Video\n",
    "from IPython.display import HTML\n",
    "import cv2\n",
    "import os\n",
    "from tqdm import tqdm\n",
    "import os.path as osp"
   ]
  },
  {
   "cell_type": "code",
   "execution_count": 14,
   "metadata": {},
   "outputs": [],
   "source": [
    "def images_to_video(image_folder, video_name='output_video.mp4', fps=24):\n",
    "    images = [img for img in os.listdir(image_folder) if img.endswith(\".png\") or img.endswith(\".jpg\")]\n",
    "    images.sort()\n",
    "\n",
    "    frame = cv2.imread(os.path.join(image_folder, images[0]))\n",
    "    height, width, layers = frame.shape\n",
    "\n",
    "    video = cv2.VideoWriter(video_name, cv2.VideoWriter_fourcc(*'mp4v'), fps, (width,height))\n",
    "\n",
    "    for image in tqdm(images):\n",
    "        video.write(cv2.imread(os.path.join(image_folder, image)))\n",
    "\n",
    "    cv2.destroyAllWindows()\n",
    "    video.release()"
   ]
  },
  {
   "cell_type": "code",
   "execution_count": 15,
   "metadata": {},
   "outputs": [],
   "source": [
    "def generate_annotiation_file(in_file, video_name, out_file):\n",
    "    new_ann_file = {}\n",
    "    new_ann_file['images'] = []\n",
    "    new_ann_file['annotations'] = []\n",
    "    new_ann_file['videos'] = []\n",
    "    with open(in_file, 'r') as f:\n",
    "        ann_file = json.load(f)\n",
    "    new_ann_file['categories'] = ann_file['categories']\n",
    "    for key in ann_file:\n",
    "        if key == 'images':\n",
    "            for i in ann_file[key]:\n",
    "                if video_name in i['file_name']:\n",
    "                    new_ann_file['images'].append(i)\n",
    "        if key == 'videos':\n",
    "            for i in ann_file[key]:\n",
    "                if i['file_name'] == video_name:\n",
    "                    new_ann_file['videos'].append(i)\n",
    "    \n",
    "    with open(out_file, 'w') as f:\n",
    "        json.dump(new_ann_file, f)"
   ]
  },
  {
   "cell_type": "code",
   "execution_count": 35,
   "metadata": {},
   "outputs": [],
   "source": [
    "video_name = \"SNMOT-142\"\n",
    "\n",
    "generate_annotiation_file(\n",
    "in_file=\"/scratch/hk3820/ByteTrack/datasets/SoccerNet/annotations/test.json\",\n",
    "video_name=video_name,\n",
    "out_file=f\"/scratch/hk3820/ByteTrack/datasets/SoccerNet/annotations/{video_name}.json\",\n",
    ")"
   ]
  },
  {
   "cell_type": "markdown",
   "metadata": {},
   "source": [
    "### Video"
   ]
  },
  {
   "cell_type": "code",
   "execution_count": 22,
   "metadata": {},
   "outputs": [
    {
     "name": "stderr",
     "output_type": "stream",
     "text": [
      "100%|██████████| 750/750 [01:03<00:00, 11.78it/s]\n"
     ]
    }
   ],
   "source": [
    "images_to_video(f\"/scratch/hk3820/ByteTrack/datasets/SoccerNet/test/{video_name}/img1/\", video_name='output_video.mp4', fps=24)"
   ]
  },
  {
   "cell_type": "markdown",
   "metadata": {},
   "source": [
    "### Running inference given parameters"
   ]
  },
  {
   "cell_type": "code",
   "execution_count": 37,
   "metadata": {},
   "outputs": [
    {
     "name": "stdout",
     "output_type": "stream",
     "text": [
      "Cache filename:  det_best_ckpt.pkl\n",
      "Loaded model from cache\n",
      "loading annotations into memory...\n",
      "Done (t=0.01s)\n",
      "creating index...\n",
      "index created!\n",
      "\u001b[32m2023-12-13 14:38:01.065\u001b[0m | \u001b[1mINFO    \u001b[0m | \u001b[36m__main__\u001b[0m:\u001b[36mmain\u001b[0m:\u001b[36m168\u001b[0m - \u001b[1mInitializing tracker for SNMOT-142\u001b[0m\n",
      "\u001b[32m2023-12-13 14:39:32.334\u001b[0m | \u001b[1mINFO    \u001b[0m | \u001b[36m__main__\u001b[0m:\u001b[36mmain\u001b[0m:\u001b[36m182\u001b[0m - \u001b[1mProcessed 50 frames. Time taken: 91.27. fps: 0.55\u001b[0m\n",
      "\u001b[32m2023-12-13 14:41:03.898\u001b[0m | \u001b[1mINFO    \u001b[0m | \u001b[36m__main__\u001b[0m:\u001b[36mmain\u001b[0m:\u001b[36m182\u001b[0m - \u001b[1mProcessed 100 frames. Time taken: 182.83. fps: 0.55\u001b[0m\n",
      "\u001b[32m2023-12-13 14:41:43.278\u001b[0m | \u001b[1mINFO    \u001b[0m | \u001b[36m__main__\u001b[0m:\u001b[36mmain\u001b[0m:\u001b[36m182\u001b[0m - \u001b[1mProcessed 150 frames. Time taken: 222.21. fps: 0.68\u001b[0m\n",
      "\u001b[32m2023-12-13 14:42:21.077\u001b[0m | \u001b[1mINFO    \u001b[0m | \u001b[36m__main__\u001b[0m:\u001b[36mmain\u001b[0m:\u001b[36m182\u001b[0m - \u001b[1mProcessed 200 frames. Time taken: 260.01. fps: 0.77\u001b[0m\n",
      "\u001b[32m2023-12-13 14:43:12.711\u001b[0m | \u001b[1mINFO    \u001b[0m | \u001b[36m__main__\u001b[0m:\u001b[36mmain\u001b[0m:\u001b[36m182\u001b[0m - \u001b[1mProcessed 250 frames. Time taken: 311.65. fps: 0.80\u001b[0m\n",
      "\u001b[32m2023-12-13 14:44:07.492\u001b[0m | \u001b[1mINFO    \u001b[0m | \u001b[36m__main__\u001b[0m:\u001b[36mmain\u001b[0m:\u001b[36m182\u001b[0m - \u001b[1mProcessed 300 frames. Time taken: 366.43. fps: 0.82\u001b[0m\n",
      "\u001b[32m2023-12-13 14:45:20.171\u001b[0m | \u001b[1mINFO    \u001b[0m | \u001b[36m__main__\u001b[0m:\u001b[36mmain\u001b[0m:\u001b[36m182\u001b[0m - \u001b[1mProcessed 350 frames. Time taken: 439.11. fps: 0.80\u001b[0m\n",
      "\u001b[32m2023-12-13 14:46:06.832\u001b[0m | \u001b[1mINFO    \u001b[0m | \u001b[36m__main__\u001b[0m:\u001b[36mmain\u001b[0m:\u001b[36m182\u001b[0m - \u001b[1mProcessed 400 frames. Time taken: 485.77. fps: 0.82\u001b[0m\n",
      "\u001b[32m2023-12-13 14:47:02.620\u001b[0m | \u001b[1mINFO    \u001b[0m | \u001b[36m__main__\u001b[0m:\u001b[36mmain\u001b[0m:\u001b[36m182\u001b[0m - \u001b[1mProcessed 450 frames. Time taken: 541.55. fps: 0.83\u001b[0m\n",
      "\u001b[32m2023-12-13 14:47:46.516\u001b[0m | \u001b[1mINFO    \u001b[0m | \u001b[36m__main__\u001b[0m:\u001b[36mmain\u001b[0m:\u001b[36m182\u001b[0m - \u001b[1mProcessed 500 frames. Time taken: 585.45. fps: 0.85\u001b[0m\n",
      "\u001b[32m2023-12-13 14:48:19.180\u001b[0m | \u001b[1mINFO    \u001b[0m | \u001b[36m__main__\u001b[0m:\u001b[36mmain\u001b[0m:\u001b[36m182\u001b[0m - \u001b[1mProcessed 550 frames. Time taken: 618.11. fps: 0.89\u001b[0m\n",
      "\u001b[32m2023-12-13 14:48:56.423\u001b[0m | \u001b[1mINFO    \u001b[0m | \u001b[36m__main__\u001b[0m:\u001b[36mmain\u001b[0m:\u001b[36m182\u001b[0m - \u001b[1mProcessed 600 frames. Time taken: 655.36. fps: 0.92\u001b[0m\n",
      "\u001b[32m2023-12-13 14:49:35.726\u001b[0m | \u001b[1mINFO    \u001b[0m | \u001b[36m__main__\u001b[0m:\u001b[36mmain\u001b[0m:\u001b[36m182\u001b[0m - \u001b[1mProcessed 650 frames. Time taken: 694.66. fps: 0.94\u001b[0m\n",
      "\u001b[32m2023-12-13 14:50:38.027\u001b[0m | \u001b[1mINFO    \u001b[0m | \u001b[36m__main__\u001b[0m:\u001b[36mmain\u001b[0m:\u001b[36m182\u001b[0m - \u001b[1mProcessed 700 frames. Time taken: 756.96. fps: 0.92\u001b[0m\n",
      "\u001b[32m2023-12-13 14:51:32.970\u001b[0m | \u001b[1mINFO    \u001b[0m | \u001b[36m__main__\u001b[0m:\u001b[36mmain\u001b[0m:\u001b[36m182\u001b[0m - \u001b[1mProcessed 750 frames. Time taken: 811.90. fps: 0.92\u001b[0m\n",
      "\u001b[32m2023-12-13 14:51:32.971\u001b[0m | \u001b[1mINFO    \u001b[0m | \u001b[36m__main__\u001b[0m:\u001b[36mmain\u001b[0m:\u001b[36m189\u001b[0m - \u001b[1mFinished, results saved to results/allenabled/singles/SoccerNet-val/mot17epoch14/data\u001b[0m\n",
      "\u001b[32m2023-12-13 14:51:33.116\u001b[0m | \u001b[1mINFO    \u001b[0m | \u001b[36m__main__\u001b[0m:\u001b[36mmain\u001b[0m:\u001b[36m192\u001b[0m - \u001b[1mTime spent: 810.614, FPS 0.93\u001b[0m\n",
      "\u001b[32m2023-12-13 14:51:33.178\u001b[0m | \u001b[1mINFO    \u001b[0m | \u001b[36m__main__\u001b[0m:\u001b[36mmain\u001b[0m:\u001b[36m195\u001b[0m - \u001b[1mTime spent: 810.614, FPS 0.93\u001b[0m\n",
      "\u001b[32m2023-12-13 14:51:36.745\u001b[0m | \u001b[1mINFO    \u001b[0m | \u001b[36m__main__\u001b[0m:\u001b[36mmain\u001b[0m:\u001b[36m205\u001b[0m - \u001b[1mOverwriting previous results in results/allenabled/singles/SoccerNet-val/mot17epoch14_post\u001b[0m\n",
      "\u001b[32m2023-12-13 14:51:36.948\u001b[0m | \u001b[1mINFO    \u001b[0m | \u001b[36m__main__\u001b[0m:\u001b[36mmain\u001b[0m:\u001b[36m210\u001b[0m - \u001b[1mLinear interpolation post-processing applied, saved to results/allenabled/singles/SoccerNet-val/mot17epoch14_post/data.\u001b[0m\n"
     ]
    }
   ],
   "source": [
    "!python3 main2.py --exp_name mot17epoch14\\\n",
    "--post --grid_off --new_kf_off\\\n",
    "--test_dataset --result_folder results/allenabled/singles/ \\\n",
    "--dataset soccernet --ann_file_name SNMOT-142 \\\n",
    "--w_assoc_emb 1.25 --aw_param 1"
   ]
  },
  {
   "cell_type": "code",
   "execution_count": 38,
   "metadata": {},
   "outputs": [
    {
     "name": "stdout",
     "output_type": "stream",
     "text": [
      "  adding: SNMOT-122.txt (deflated 74%)\n",
      "  adding: SNMOT-125.txt (deflated 75%)\n",
      "  adding: SNMOT-142.txt (deflated 74%)\n"
     ]
    }
   ],
   "source": [
    "!cd /scratch/hk3820/deep-oc-sort/results/allenabled/singles/SoccerNet-val/mot17epoch14_post/data/ \\\n",
    "&& zip soccernet_singles.zip SNMOT-???.txt"
   ]
  },
  {
   "cell_type": "code",
   "execution_count": 39,
   "metadata": {},
   "outputs": [
    {
     "name": "stdout",
     "output_type": "stream",
     "text": [
      "/scratch/hk3820/deep-oc-sort\n",
      "\n",
      "Eval Config:\n",
      "USE_PARALLEL         : False                         \n",
      "NUM_PARALLEL_CORES   : 8                             \n",
      "BREAK_ON_ERROR       : True                          \n",
      "RETURN_ON_ERROR      : False                         \n",
      "LOG_ON_ERROR         : /home/hk3820/.local/lib/python3.8/site-packages/error_log.txt\n",
      "PRINT_RESULTS        : True                          \n",
      "PRINT_ONLY_COMBINED  : False                         \n",
      "PRINT_CONFIG         : True                          \n",
      "TIME_PROGRESS        : True                          \n",
      "DISPLAY_LESS_PROGRESS : False                         \n",
      "OUTPUT_SUMMARY       : True                          \n",
      "OUTPUT_EMPTY_CLASSES : True                          \n",
      "OUTPUT_DETAILED      : True                          \n",
      "PLOT_CURVES          : True                          \n",
      "\n",
      "MotChallenge2DBox Config:\n",
      "PRINT_CONFIG         : True                          \n",
      "GT_FOLDER            : ./temp/gt                     \n",
      "TRACKERS_FOLDER      : ./temp                        \n",
      "OUTPUT_FOLDER        : None                          \n",
      "TRACKERS_TO_EVAL     : ['test']                      \n",
      "CLASSES_TO_EVAL      : ['pedestrian']                \n",
      "BENCHMARK            : SNMOT                         \n",
      "SPLIT_TO_EVAL        : test                          \n",
      "INPUT_AS_ZIP         : False                         \n",
      "DO_PREPROC           : False                         \n",
      "TRACKER_SUB_FOLDER   : data                          \n",
      "OUTPUT_SUB_FOLDER    : eval_results                  \n",
      "TRACKER_DISPLAY_NAMES : None                          \n",
      "SEQMAP_FOLDER        : None                          \n",
      "SEQMAP_FILE          : SNMOT-Test.txt                \n",
      "SEQ_INFO             : None                          \n",
      "GT_LOC_FORMAT        : {gt_folder}/{seq}/gt/gt.txt   \n",
      "SKIP_SPLIT_FOL       : False                         \n",
      "\n",
      "CLEAR Config:\n",
      "METRICS              : ['HOTA', 'CLEAR', 'Identity'] \n",
      "THRESHOLD            : 0.5                           \n",
      "PRINT_CONFIG         : True                          \n",
      "\n",
      "Identity Config:\n",
      "METRICS              : ['HOTA', 'CLEAR', 'Identity'] \n",
      "THRESHOLD            : 0.5                           \n",
      "PRINT_CONFIG         : True                          \n",
      "\n",
      "Evaluating 1 tracker(s) on 3 sequence(s) for 1 class(es) on MotChallenge2DBox dataset using the following metrics: HOTA, CLEAR, Identity, Count\n",
      "\n",
      "\n",
      "Evaluating test\n",
      "\n",
      "    MotChallenge2DBox.get_raw_seq_data(test, SNMOT-122)                    0.1577 sec\n",
      "    MotChallenge2DBox.get_preprocessed_seq_data(pedestrian)                0.1217 sec\n",
      "    HOTA.eval_sequence()                                                   0.2530 sec\n",
      "    CLEAR.eval_sequence()                                                  0.0445 sec\n",
      "    Identity.eval_sequence()                                               0.0093 sec\n",
      "    Count.eval_sequence()                                                  0.0000 sec\n",
      "1 eval_sequence(SNMOT-122, test)                                         0.5884 sec\n",
      "    MotChallenge2DBox.get_raw_seq_data(test, SNMOT-125)                    0.1273 sec\n",
      "    MotChallenge2DBox.get_preprocessed_seq_data(pedestrian)                0.1178 sec\n",
      "    HOTA.eval_sequence()                                                   0.2360 sec\n",
      "    CLEAR.eval_sequence()                                                  0.0387 sec\n",
      "    Identity.eval_sequence()                                               0.0089 sec\n",
      "    Count.eval_sequence()                                                  0.0000 sec\n",
      "2 eval_sequence(SNMOT-125, test)                                         0.5310 sec\n",
      "    MotChallenge2DBox.get_raw_seq_data(test, SNMOT-142)                    0.1369 sec\n",
      "    MotChallenge2DBox.get_preprocessed_seq_data(pedestrian)                0.1181 sec\n",
      "    HOTA.eval_sequence()                                                   0.2438 sec\n",
      "    CLEAR.eval_sequence()                                                  0.0400 sec\n",
      "    Identity.eval_sequence()                                               0.0093 sec\n",
      "    Count.eval_sequence()                                                  0.0000 sec\n",
      "3 eval_sequence(SNMOT-142, test)                                         0.5500 sec\n",
      "\n",
      "All sequences for test finished in 1.67 seconds\n",
      "\n",
      "HOTA: test-pedestrian              HOTA      DetA      AssA      DetRe     DetPr     AssRe     AssPr     LocA      OWTA      HOTA(0)   LocA(0)   HOTALocA(0)\n",
      "SNMOT-122                          60.647    74.09     49.756    78.232    85.234    52.358    83.34     86.312    62.388    72.921    83.65     60.999    \n",
      "SNMOT-125                          58.63     70.181    49.147    74.27     84.058    51.605    82.47     85.555    60.41     71.054    82.334    58.502    \n",
      "SNMOT-142                          49.411    63.199    38.681    67.545    81.336    40.931    78.374    84.29     51.109    62.663    80.595    50.503    \n",
      "COMBINED                           56.392    69.148    46.113    73.392    83.618    48.572    81.586    85.439    58.174    68.977    82.271    56.749    \n",
      "\n",
      "CLEAR: test-pedestrian             MOTA      MOTP      MODA      CLR_Re    CLR_Pr    MTR       PTR       MLR       sMOTA     CLR_TP    CLR_FN    CLR_FP    IDSW      MT        PT        ML        Frag      \n",
      "SNMOT-122                          87.475    84.726    87.956    89.87     97.914    88.462    11.538    0         73.748    10469     1180      223       56        23        3         0         137       \n",
      "SNMOT-125                          83.867    83.805    84.42     86.387    97.773    80.769    19.231    0         69.876    8123      1280      185       52        21        5         0         98        \n",
      "SNMOT-142                          75.645    82.127    76.278    79.662    95.925    64        32        4         61.407    8805      2248      374       70        16        8         1         163       \n",
      "COMBINED                           82.345    83.618    82.9      85.336    97.225    77.922    20.779    1.2987    68.365    27397     4708      782       178       60        16        1         398       \n",
      "\n",
      "Identity: test-pedestrian          IDF1      IDR       IDP       IDTP      IDFN      IDFP      \n",
      "SNMOT-122                          66.121    63.405    69.08     7386      4263      3306      \n",
      "SNMOT-125                          65.089    61.3      69.379    5764      3639      2544      \n",
      "SNMOT-142                          54.824    50.176    60.421    5546      5507      3633      \n",
      "COMBINED                           62.026    58.234    66.347    18696     13409     9483      \n",
      "\n",
      "Count: test-pedestrian             Dets      GT_Dets   IDs       GT_IDs    \n",
      "SNMOT-122                          10692     11649     65        26        \n",
      "SNMOT-125                          8308      9403      56        26        \n",
      "SNMOT-142                          9179      11053     73        25        \n",
      "COMBINED                           28179     32105     194       77        \n",
      "\n",
      "Timing analysis:\n",
      "MotChallenge2DBox.get_raw_seq_data                                     0.4218 sec\n",
      "MotChallenge2DBox.get_preprocessed_seq_data                            0.3577 sec\n",
      "HOTA.eval_sequence                                                     0.7329 sec\n",
      "CLEAR.eval_sequence                                                    0.1232 sec\n",
      "Identity.eval_sequence                                                 0.0276 sec\n",
      "Count.eval_sequence                                                    0.0000 sec\n",
      "eval_sequence                                                          1.6694 sec\n",
      "Evaluator.evaluate                                                     2.5132 sec\n"
     ]
    }
   ],
   "source": [
    "!python /scratch/hk3820/csgi2271_finalproject/tools/evaluate_soccernet_v3_tracking.py \\\n",
    "--TRACKERS_FOLDER_ZIP /scratch/hk3820/deep-oc-sort/results/allenabled/singles/SoccerNet-val/mot17epoch14_post/data/soccernet_singles.zip \\\n",
    "--GT_FOLDER_ZIP gt_test.zip \\\n",
    "--BENCHMARK SNMOT --DO_PREPROC False --SEQMAP_FILE SNMOT-Test.txt --TRACKERS_TO_EVAL test --SPLIT_TO_EVAL test --OUTPUT_SUB_FOLDER eval_results"
   ]
  },
  {
   "cell_type": "code",
   "execution_count": null,
   "metadata": {},
   "outputs": [],
   "source": []
  }
 ],
 "metadata": {
  "kernelspec": {
   "display_name": "ByteTrackV2",
   "language": "python",
   "name": "bytetrackv2"
  },
  "language_info": {
   "codemirror_mode": {
    "name": "ipython",
    "version": 3
   },
   "file_extension": ".py",
   "mimetype": "text/x-python",
   "name": "python",
   "nbconvert_exporter": "python",
   "pygments_lexer": "ipython3",
   "version": "3.8.18"
  }
 },
 "nbformat": 4,
 "nbformat_minor": 4
}
